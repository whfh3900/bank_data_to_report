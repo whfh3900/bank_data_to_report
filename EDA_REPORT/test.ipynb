{
 "cells": [
  {
   "cell_type": "code",
   "execution_count": 1,
   "metadata": {},
   "outputs": [
    {
     "name": "stderr",
     "output_type": "stream",
     "text": [
      "c:\\Users\\choi seung un\\AppData\\Local\\Programs\\Python\\Python38\\lib\\site-packages\\numpy\\_distributor_init.py:30: UserWarning: loaded more than 1 DLL from .libs:\n",
      "c:\\Users\\choi seung un\\AppData\\Local\\Programs\\Python\\Python38\\lib\\site-packages\\numpy\\.libs\\libopenblas.EL2C6PLE4ZYW3ECEVIV3OXXGRN2NRFM2.gfortran-win_amd64.dll\n",
      "c:\\Users\\choi seung un\\AppData\\Local\\Programs\\Python\\Python38\\lib\\site-packages\\numpy\\.libs\\libopenblas.XWYDX2IKJW2NMTWSFYNGFUWKQU3LYTCZ.gfortran-win_amd64.dll\n",
      "  warnings.warn(\"loaded more than 1 DLL from .libs:\"\n"
     ]
    },
    {
     "data": {
      "text/plain": [
       "datetime.datetime(2023, 8, 7, 15, 36, 30, 381835, tzinfo=<DstTzInfo 'Asia/Seoul' KST+9:00:00 STD>)"
      ]
     },
     "execution_count": 1,
     "metadata": {},
     "output_type": "execute_result"
    }
   ],
   "source": [
    "import pandas as pd\n",
    "import numpy as np\n",
    "import datetime\n",
    "import pandas as pd\n",
    "import numpy as np\n",
    "import os\n",
    "import pytz\n",
    "import json\n",
    "import random\n",
    "import time\n",
    "from tqdm import tqdm\n",
    "from openpyxl import Workbook\n",
    "from openpyxl.utils.dataframe import dataframe_to_rows\n",
    "from openpyxl.drawing.image import Image\n",
    "from DCP_Understanding import SetDataFrame\n",
    "from DCP_Visualization import SetGraph\n",
    "from DCP_Utils import *\n",
    "from konfig import Config\n",
    "cc = Config(\"../conf.ini\")\n",
    "\n",
    "KST = pytz.timezone('Asia/Seoul')\n",
    "datetime.datetime.now(KST)\n",
    "\n",
    "# pd.set_option('display.max_rows', None)\n",
    "# pd.set_option('display.max_columns', None)\n",
    "# pd.set_option('display.width', None)\n",
    "# pd.set_option('display.max_colwidth', -1)\n",
    "\n",
    "\n"
   ]
  },
  {
   "cell_type": "code",
   "execution_count": 2,
   "metadata": {},
   "outputs": [],
   "source": [
    "#### input\n",
    "path = cc.get_map(\"report-jupyter\")[\"path\"]\n",
    "bank = cc.get_map(\"report-jupyter\")[\"data\"]\n",
    "result_report_file_path = os.path.join(cc.get_map(\"report-jupyter\")[\"output\"], \"%s_report_example.csv\"%bank)\n",
    "company = cc.get_map(\"report-jupyter\")[\"company\"]\n",
    "user = cc.get_map(\"report-jupyter\")[\"user\"]\n",
    "\n",
    "today = datetime.datetime.now().strftime('%Y-%m-%d')\n",
    "nowtime = datetime.datetime.now().strftime('%H:%M:%S')\n",
    "\n"
   ]
  },
  {
   "cell_type": "code",
   "execution_count": 3,
   "metadata": {},
   "outputs": [],
   "source": [
    "### 상태표와 코드표\n",
    "stat = pd.read_csv(cc.get_map(\"report-jupyter\")[\"stat_file\"], encoding=\"cp949\")\n",
    "code = pd.read_csv(cc.get_map(\"report-jupyter\")[\"code_file\"], encoding=\"cp949\")\n",
    "\n",
    "### 데이터\n",
    "df = pd.read_csv(os.path.join(path, bank+\".csv\"), encoding=\"cp949\")"
   ]
  },
  {
   "cell_type": "code",
   "execution_count": 16,
   "metadata": {},
   "outputs": [],
   "source": [
    "# with open(\"./ATS_KDCD_DTL.txt\", \"w\", encoding=\"utf-8-sig\") as f:\n",
    "#     for i in df['ATS_KDCD_DTL'].unique():\n",
    "#         f.write(i+\"\\n\")\n"
   ]
  },
  {
   "cell_type": "code",
   "execution_count": 4,
   "metadata": {},
   "outputs": [],
   "source": [
    "######### 시트생성\n",
    "wb = Workbook()\n",
    "sheet1 = wb.active\n",
    "sheet1.title = '표지'\n",
    "sheet2 = wb.create_sheet('데이터 이해',2)\n",
    "sheet3 = wb.create_sheet('결측치 데이터',3)\n",
    "sheet4 = wb.create_sheet('이상치 데이터',4)\n",
    "sheet5 = wb.create_sheet('분포도',5)    \n",
    "sheet6 = wb.create_sheet('스케일',6)\n",
    "sheet7 = wb.create_sheet('명세서',7)\n",
    "sheet8 = wb.create_sheet('코드표',8)\n",
    "\n",
    "\n",
    "######### 표지\n",
    "img = Image('./img/eda_report.png')\n",
    "sheet1.add_image(img, \"C6\")\n",
    "\n",
    "sheet1['D21'] = '회사명'\n",
    "sheet1['D22'] = '데이터명'\n",
    "sheet1['D23'] = '작성일자'\n",
    "sheet1['D24'] = '작성시간'\n",
    "sheet1['D25'] = '작성자'\n",
    "\n",
    "sheet1['E21'] = company\n",
    "sheet1['E22'] = bank\n",
    "sheet1['E23'] = today\n",
    "sheet1['E24'] = nowtime\n",
    "sheet1['E25'] = user"
   ]
  },
  {
   "cell_type": "code",
   "execution_count": 5,
   "metadata": {},
   "outputs": [
    {
     "name": "stdout",
     "output_type": "stream",
     "text": [
      "데이터 이해 time : 0.006000995635986328\n"
     ]
    }
   ],
   "source": [
    "## 데이터 이해\n",
    "un = SetDataFrame(df, bank, stat, code)\n",
    "\n",
    "for j in ['D', 'E']:\n",
    "    max_length = 0\n",
    "    for i in range(21, 26):\n",
    "        sheet1['{}{}'.format(j, i)].border = border_styles()\n",
    "        sheet1['{}{}'.format(j, i)].font = font_styles()\n",
    "        if j == 'D':\n",
    "            sheet1['{}{}'.format(j, i)].fill = patternfill_styles(23)\n",
    "        elif j == 'E':\n",
    "            sheet1['{}{}'.format(j, i)].fill = patternfill_styles(22)\n",
    "\n",
    "        if len(str(sheet1['{}{}'.format(j, i)].value)) > max_length:\n",
    "            max_length = len(str(sheet1['{}{}'.format(j, i)].value))\n",
    "            \n",
    "    adjusted_width = (max_length + 2) * 1.5\n",
    "    sheet1.column_dimensions[j].width = adjusted_width\n",
    "\n",
    "shape = un.dcp_shape()\n",
    "types = un.dcp_types()\n",
    "missing = un.dcp_missing()\n",
    "unique = un.dcp_unique()\n",
    "outliers = un.dcp_outliers()\n",
    "\n",
    "start = time.time()\n",
    "sheet2['C2'] = '행'\n",
    "sheet2['D2'] = '열'\n",
    "sheet2['B3'] = '데이터 크기'\n",
    "sheet2['C3'] = shape[0]\n",
    "sheet2['D3'] = shape[1]\n",
    "\n",
    "for j in ['B', 'C', 'D']:\n",
    "    for i in range(2, 4):\n",
    "        sheet2['{}{}'.format(j, i)].border = border_styles()\n",
    "        sheet2['{}{}'.format(j, i)].font = font_styles()\n",
    "        sheet2['{}{}'.format(j, i)].alignment = alignment_styles()\n",
    "        if (j != 'B') and (i==3):\n",
    "            sheet2['{}{}'.format(j, i)].fill = patternfill_styles(22)\n",
    "        else:\n",
    "            sheet2['{}{}'.format(j, i)].fill = patternfill_styles(23)\n",
    "\n",
    "sheet2['B7'] = '필드명'\n",
    "sheet2['C7'] = '데이터타입'\n",
    "sheet2['D7'] = '결측값개수'\n",
    "sheet2['E7'] = '클래스개수'\n",
    "sheet2['F7'] = '이상치개수'\n",
    "\n",
    "r = 8\n",
    "for i,n in enumerate(df.columns):\n",
    "    sheet2['B{}'.format(r)] = df.columns[i]\n",
    "    sheet2['C{}'.format(r)] = types[n]\n",
    "    sheet2['D{}'.format(r)] = len(missing[n])\n",
    "    sheet2['E{}'.format(r)] = len(unique[n])\n",
    "    sheet2['F{}'.format(r)] = len(outliers[n])\n",
    "    r+=1\n",
    "\n",
    "for j in ['B', 'C', 'D', 'E', 'F']:\n",
    "    max_length = 0\n",
    "    for i in range(7, r):\n",
    "        sheet2['{}{}'.format(j, i)].alignment = alignment_styles()\n",
    "        sheet2['{}{}'.format(j, i)].border = border_styles()\n",
    "        if i == 7:\n",
    "            sheet2['{}{}'.format(j, i)].font = font_styles()\n",
    "            sheet2['{}{}'.format(j, i)].fill = patternfill_styles(23)\n",
    "        elif (i != 7) and (j == 'B'):\n",
    "            sheet2['{}{}'.format(j, i)].font = font_styles()\n",
    "            sheet2['{}{}'.format(j, i)].fill = patternfill_styles(22)\n",
    "            \n",
    "        if len(str(sheet2['{}{}'.format(j, i)].value)) > max_length:\n",
    "            max_length = len(str(sheet2['{}{}'.format(j, i)].value))\n",
    "            \n",
    "    adjusted_width = (max_length + 2) * 1.5\n",
    "    sheet2.column_dimensions[j].width = adjusted_width\n",
    "\n",
    "print(\"데이터 이해 time :\", time.time() - start)"
   ]
  },
  {
   "cell_type": "code",
   "execution_count": 6,
   "metadata": {},
   "outputs": [
    {
     "name": "stderr",
     "output_type": "stream",
     "text": [
      "100%|██████████| 6/6 [00:00<00:00,  6.71it/s]"
     ]
    },
    {
     "name": "stdout",
     "output_type": "stream",
     "text": [
      "결측치 데이터 time : 0.8968684673309326\n"
     ]
    },
    {
     "name": "stderr",
     "output_type": "stream",
     "text": [
      "\n"
     ]
    }
   ],
   "source": [
    "######### 결측치 데이터\n",
    "start = time.time()\n",
    "for n in tqdm(df.columns):\n",
    "    if sum([len(i) for i in missing.values()]) == 0:\n",
    "        empty_list = ['']*len(df.columns)\n",
    "        empty_list[0] = '결측값 없음'\n",
    "        sheet3.append(empty_list)\n",
    "        break\n",
    "    else:\n",
    "        missing_data = df[df.index.isin(missing[n])].reset_index()\n",
    "        if (len(missing_data) == 0) | (len(missing_data) == len(df)):\n",
    "            pass\n",
    "        else:\n",
    "            empty_list = ['']*len(df.columns)\n",
    "            empty_list[0] = '결측 컬럼 :'\n",
    "            empty_list[1] = n\n",
    "            sheet3.append(empty_list)\n",
    "            sheet3.append(list(missing_data.columns))\n",
    "            for r in dataframe_to_rows(missing_data, index=False, header=False):\n",
    "                sheet3.append(r)\n",
    "            sheet3.append(['']*len(df.columns))\n",
    "            sheet3.append(['']*len(df.columns))\n",
    "\n",
    "print(\"결측치 데이터 time :\", time.time() - start)"
   ]
  },
  {
   "cell_type": "code",
   "execution_count": 7,
   "metadata": {},
   "outputs": [
    {
     "name": "stderr",
     "output_type": "stream",
     "text": [
      "  0%|          | 0/6 [00:00<?, ?it/s]"
     ]
    },
    {
     "name": "stdout",
     "output_type": "stream",
     "text": [
      "이상치 데이터 time : 0.0024251937866210938\n"
     ]
    },
    {
     "name": "stderr",
     "output_type": "stream",
     "text": [
      "\n"
     ]
    }
   ],
   "source": [
    "######### 이상치 데이터\n",
    "start = time.time()\n",
    "for n in tqdm(df.columns):\n",
    "    if sum([len(i) for i in outliers.values()]) == 0:\n",
    "        empty_list = ['']*len(df.columns)\n",
    "        empty_list[0] = '이상치 없음'\n",
    "        sheet4.append(empty_list)\n",
    "        break\n",
    "    else:\n",
    "        outliers_data = df[df.index.isin(outliers[n])].reset_index()\n",
    "        if (len(outliers_data) == 0) | (len(outliers_data) == len(df)):\n",
    "            pass\n",
    "        else:\n",
    "            empty_list = ['']*len(df.columns)\n",
    "            empty_list[0] = n\n",
    "            empty_list[1] = ': 정해진 타입과 형식이 맞지 않음.'\n",
    "            sheet4.append(empty_list)\n",
    "            sheet4.append(list(outliers_data.columns))\n",
    "            for r in dataframe_to_rows(outliers_data, index=False, header=False):\n",
    "                sheet4.append(r)\n",
    "            sheet4.append(['']*len(df.columns))\n",
    "            sheet4.append(['']*len(df.columns))\n",
    "\n",
    "print(\"이상치 데이터 time :\", time.time() - start)"
   ]
  },
  {
   "cell_type": "code",
   "execution_count": 9,
   "metadata": {},
   "outputs": [
    {
     "name": "stdout",
     "output_type": "stream",
     "text": [
      "그래프 time : 0.04153275489807129\n"
     ]
    }
   ],
   "source": [
    "######### 그래프\n",
    "start = time.time()\n",
    "\n",
    "pltpath = cc.get_map(\"report-jupyter\")[\"save_graph_image\"]\n",
    "sg = SetGraph(df, bank, stat, pltpath)\n",
    "sg.dcp_distribution_graph(sheet5)\n",
    "sg.dcp_scale_comparison(sheet6)\n",
    "#sg.dcp_heatmap(num, sheet7)\n",
    "print(\"그래프 time :\", time.time() - start)\n"
   ]
  },
  {
   "cell_type": "code",
   "execution_count": 10,
   "metadata": {},
   "outputs": [],
   "source": [
    "######### 명세서\n",
    "stat_col = ['은행명','항목명','항목의미','항목형식','설명','사용코드','비고']\n",
    "sheet7.append(stat_col)\n",
    "for r in dataframe_to_rows(stat, index=False, header=False):\n",
    "    sheet7.append(r)"
   ]
  },
  {
   "cell_type": "code",
   "execution_count": 11,
   "metadata": {},
   "outputs": [],
   "source": [
    "######### 코드표\n",
    "code_col = ['은행명','사용코드','사용변수','변수설명','비고']\n",
    "sheet8.append(code_col)\n",
    "for r in dataframe_to_rows(code, index=False, header=False):\n",
    "    sheet8.append(r)"
   ]
  },
  {
   "cell_type": "code",
   "execution_count": 12,
   "metadata": {},
   "outputs": [],
   "source": [
    "######### 보고서 저장\n",
    "wb.save(result_report_file_path)"
   ]
  },
  {
   "cell_type": "code",
   "execution_count": null,
   "metadata": {},
   "outputs": [],
   "source": []
  },
  {
   "cell_type": "code",
   "execution_count": null,
   "metadata": {},
   "outputs": [],
   "source": []
  }
 ],
 "metadata": {
  "kernelspec": {
   "display_name": "Python 3",
   "language": "python",
   "name": "python3"
  },
  "language_info": {
   "codemirror_mode": {
    "name": "ipython",
    "version": 3
   },
   "file_extension": ".py",
   "mimetype": "text/x-python",
   "name": "python",
   "nbconvert_exporter": "python",
   "pygments_lexer": "ipython3",
   "version": "3.8.10"
  },
  "orig_nbformat": 4
 },
 "nbformat": 4,
 "nbformat_minor": 2
}
