{
 "cells": [
  {
   "cell_type": "code",
   "execution_count": 1,
   "metadata": {},
   "outputs": [
    {
     "name": "stderr",
     "output_type": "stream",
     "text": [
      "c:\\Users\\choi seung un\\AppData\\Local\\Programs\\Python\\Python38\\lib\\site-packages\\numpy\\_distributor_init.py:30: UserWarning: loaded more than 1 DLL from .libs:\n",
      "c:\\Users\\choi seung un\\AppData\\Local\\Programs\\Python\\Python38\\lib\\site-packages\\numpy\\.libs\\libopenblas.EL2C6PLE4ZYW3ECEVIV3OXXGRN2NRFM2.gfortran-win_amd64.dll\n",
      "c:\\Users\\choi seung un\\AppData\\Local\\Programs\\Python\\Python38\\lib\\site-packages\\numpy\\.libs\\libopenblas.XWYDX2IKJW2NMTWSFYNGFUWKQU3LYTCZ.gfortran-win_amd64.dll\n",
      "  warnings.warn(\"loaded more than 1 DLL from .libs:\"\n",
      "c:\\Users\\choi seung un\\AppData\\Local\\Programs\\Python\\Python38\\lib\\site-packages\\konlpy\\tag\\_okt.py:17: UserWarning: \"Twitter\" has changed to \"Okt\" since KoNLPy v0.4.5.\n",
      "  warn('\"Twitter\" has changed to \"Okt\" since KoNLPy v0.4.5.')\n"
     ]
    }
   ],
   "source": [
    "import pandas as pd\n",
    "from glob import glob\n",
    "from work import *\n",
    "from tqdm import tqdm\n",
    "tqdm.pandas()"
   ]
  },
  {
   "cell_type": "code",
   "execution_count": 2,
   "metadata": {},
   "outputs": [
    {
     "name": "stderr",
     "output_type": "stream",
     "text": [
      "c:\\Users\\choi seung un\\AppData\\Local\\Programs\\Python\\Python38\\lib\\site-packages\\IPython\\core\\interactiveshell.py:3169: DtypeWarning: Columns (4,16,18,19,21) have mixed types.Specify dtype option on import or set low_memory=False.\n",
      "  has_raised = await self.run_ast_nodes(code_ast.body, cell_name,\n"
     ]
    }
   ],
   "source": [
    "path = \"../data/우리은행/작업/공통/dataset_16.csv\"\n",
    "df = pd.read_csv(path, encoding=\"utf-8-sig\", index_col=0)\n",
    "df.reset_index(drop=True, inplace=True)\n",
    "\n",
    "\n",
    "# df_1 = df[(df[\"완료여부\"]==1)].copy()\n",
    "df_1 = df[(df[\"완료여부\"]==1) & (df[\"분류\"]==\"급여지급\")].copy()\n",
    "\n",
    "use_index = df_1.index\n",
    "df_2 = df[~df.index.isin(use_index)].copy()\n",
    "\n",
    "\n"
   ]
  },
  {
   "cell_type": "code",
   "execution_count": 6,
   "metadata": {},
   "outputs": [],
   "source": [
    "# for i in df[\"분류\"].unique():\n",
    "#     etc = df[df[\"분류\"]==i].copy()\n",
    "#     i = re.sub(r\"[^\\w\\s]\", \" \", i) # 특수문자 제거\n",
    "#     etc.to_csv(\"../data/우리은행/작업/분류별/%s.csv\"%i, encoding=\"utf-8-sig\", index=False)"
   ]
  },
  {
   "cell_type": "code",
   "execution_count": 147,
   "metadata": {},
   "outputs": [
    {
     "name": "stderr",
     "output_type": "stream",
     "text": [
      "100%|██████████| 438/438 [00:00<00:00, 108949.42it/s]\n"
     ]
    }
   ],
   "source": [
    "def dele_spec_str(string):\n",
    "    try:\n",
    "        # string = string.replace(\" \", \"\")\n",
    "        # string = string.replace(\"　\", \"\")\n",
    "        string = string.replace(\"-\", \" \")\n",
    "        string = string.replace(\"－\", \" \")\n",
    "        return string\n",
    "    except AttributeError as e:\n",
    "        print(e, string)\n",
    "        return \"\"\n",
    "\n",
    "# df_1[\"단어\"] = df_1[\"단어\"].progress_apply(lambda x: dele_spec_str(x))\n",
    "# df_1[\"단어의미\"] = df_1[\"단어의미\"].progress_apply(lambda x: dele_spec_str(x))\n",
    "# df_1[\"적요 설명\"] = df_1[\"적요 설명\"].progress_apply(lambda x: dele_spec_str(x))\n",
    "\n",
    "def change_NAME_word(string, word):\n",
    "    if word == \"#NAME?\":\n",
    "        string = dele_spec_str(string)\n",
    "        return string.split()[1]\n",
    "    else:\n",
    "        return word\n",
    "\n",
    "def change_NAME_mean(string, textmean):\n",
    "    if textmean == \"#NAME?\":\n",
    "        string = dele_spec_str(string)\n",
    "        return string.split()[1]+\"에 기부한 내역의 적요이다.\"\n",
    "    else:\n",
    "        return textmean\n",
    "    \n",
    "# df_1[\"단어\"] = df_1.progress_apply(lambda x: change_NAME_word(x[\"적요\"], x[\"단어\"]), axis=1)\n",
    "# df_1[\"단어의미\"] = df_1.progress_apply(lambda x: change_NAME_word(x[\"적요\"], x[\"단어의미\"]), axis=1)\n",
    "# df_1[\"적요 설명\"] = df_1.progress_apply(lambda x: change_NAME_mean(x[\"적요\"], x[\"적요 설명\"]), axis=1)\n",
    "\n",
    "\n",
    "def mod_pay(string):\n",
    "    string = string.replace(\"월급여로부터\", \"으로부터\")\n",
    "    string = string.replace(\"급여로부터\", \"으로부터\")\n",
    "    if string.startswith('급여'):\n",
    "        string = string[2:]\n",
    "    \n",
    "    return string\n",
    "\n",
    "def mod_pay_2(string):\n",
    "    string = string.replace(\"로부터\", \"으로부터\")\n",
    "    string = string.replace(\"으으로부터\", \"으로부터\")    \n",
    "    return string\n",
    "\n",
    "\n",
    "def mod_pay_3(string):\n",
    "    wrong_text = [\"이체으로부터\", \"지급으로부터\", \"으로부터\", \"수당으로부터\", \"정기으로부터\", \"정기급여\", \"정기상여\", \"정산급여\", \"정립급여\", \"추가으로부터\"]\n",
    "    for text in wrong_text:\n",
    "        if string.startswith(text):\n",
    "            string = \"급여를 입금받은 내역의 적요이다.\"\n",
    "    if string.startswith('월급여'):\n",
    "        string = string[3:] \n",
    "    return string\n",
    "\n",
    "# df_1[\"적요 설명\"] = df_1.progress_apply(lambda x: mod_pay_3(x[\"적요 설명\"]), axis=1)\n",
    "\n",
    "def mod_tex(string, text_mean):\n",
    "    wrong_text = [\"세무법인\", \"세무회계\", \"회계법인\"]\n",
    "    for text in wrong_text:\n",
    "        if string.startswith(text) or string.endswith(text):\n",
    "             text_mean = text+\"으로 이체한 내역의 적요이다.\"\n",
    "             break\n",
    "    return text_mean\n",
    "\n",
    "def mod_tex_2(string, text_mean):\n",
    "    wrong_text = [\"세무사\"]\n",
    "    for text in wrong_text:\n",
    "        if string.endswith(text):\n",
    "             text_mean = text+\"에게 이체한 내역의 적요이다.\"\n",
    "             break\n",
    "    return text_mean\n",
    "\n",
    "def mod_tex_3(string, word):\n",
    "    wrong_text = [\"세무사\"]\n",
    "    for text in wrong_text:\n",
    "        if string.endswith(text):\n",
    "            if word == '세무':\n",
    "                word = \"세무사\"\n",
    "            else:\n",
    "                # 단어\n",
    "                # word = word[:-1]\n",
    "                # 단어의미\n",
    "                word = \"이름\"\n",
    "    return word\n",
    "\n",
    "\n",
    "\n",
    "# df_1[\"적요 설명\"] = df_1.progress_apply(lambda x: mod_tex_2(x[\"적요\"], x[\"적요 설명\"]), axis=1)\n",
    "# df_1[\"단어\"] = df_1.progress_apply(lambda x: mod_tex_3(x[\"적요\"], x[\"단어\"]), axis=1)\n",
    "# df_1[\"단어의미\"] = df_1.progress_apply(lambda x: mod_tex_3(x[\"적요\"], x[\"단어의미\"]), axis=1)\n",
    "\n",
    "def change_ga(string):\n",
    "    first_string = string.split()[0]\n",
    "    if first_string.endswith(\"가\"):\n",
    "        first_string = first_string[:-1] + \"에\"\n",
    "    new_string = list()\n",
    "    new_string.append(first_string)\n",
    "    for word in string.split()[1:]:\n",
    "        new_string.append(word)\n",
    "    return \" \".join(new_string)\n",
    "    \n",
    "# df_1[\"적요 설명\"] = df_1.progress_apply(lambda x: change_ga(x[\"적요 설명\"]), axis=1)\n",
    "\n",
    "\n",
    "def change_ga(string):\n",
    "    first_string = string.split()[0]\n",
    "    if first_string.endswith(\"가\"):\n",
    "        first_string = first_string[:-1] + \"에\"\n",
    "    new_string = list()\n",
    "    new_string.append(first_string)\n",
    "    for word in string.split()[1:]:\n",
    "        new_string.append(word)\n",
    "    return \" \".join(new_string)\n",
    "\n",
    "def mod_pay(string):\n",
    "    return string[:2]+\"은행에 급여로 이체한 내역의 적요이다.\"\n",
    "\n",
    "\n",
    "\n",
    "\n",
    "# df_1[\"적요 설명\"] = df_1.progress_apply(lambda x: mod_pay(x[\"적요 설명\"]), axis=1)\n"
   ]
  },
  {
   "cell_type": "code",
   "execution_count": 148,
   "metadata": {},
   "outputs": [],
   "source": [
    "df = pd.concat([df_1, df_2], axis=0)\n",
    "\n",
    "path = \"../data/우리은행/작업/공통/dataset_16.csv\"\n",
    "df.to_csv(path, encoding=\"utf-8-sig\")"
   ]
  },
  {
   "cell_type": "code",
   "execution_count": 60,
   "metadata": {},
   "outputs": [
    {
     "data": {
      "text/plain": [
       "'연화원에 기부한 내역의 적요이다.'"
      ]
     },
     "execution_count": 60,
     "metadata": {},
     "output_type": "execute_result"
    }
   ],
   "source": [
    "\n",
    "change_NAME_mean(\"신한-연화원\")"
   ]
  },
  {
   "cell_type": "code",
   "execution_count": 44,
   "metadata": {},
   "outputs": [
    {
     "data": {
      "text/plain": [
       "''"
      ]
     },
     "execution_count": 44,
     "metadata": {},
     "output_type": "execute_result"
    }
   ],
   "source": []
  }
 ],
 "metadata": {
  "kernelspec": {
   "display_name": "Python 3",
   "language": "python",
   "name": "python3"
  },
  "language_info": {
   "codemirror_mode": {
    "name": "ipython",
    "version": 3
   },
   "file_extension": ".py",
   "mimetype": "text/x-python",
   "name": "python",
   "nbconvert_exporter": "python",
   "pygments_lexer": "ipython3",
   "version": "3.8.10"
  },
  "orig_nbformat": 4
 },
 "nbformat": 4,
 "nbformat_minor": 2
}
